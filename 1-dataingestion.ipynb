{
 "cells": [
  {
   "cell_type": "markdown",
   "id": "5c7a13f8",
   "metadata": {},
   "source": [
    "### Introduction To Data Ingestion"
   ]
  },
  {
   "cell_type": "code",
   "execution_count": 5,
   "id": "e03bd026",
   "metadata": {},
   "outputs": [],
   "source": [
    "import os\n",
    "from typing import List, Dict, Any\n",
    "import pandas as pd\n"
   ]
  },
  {
   "cell_type": "code",
   "execution_count": 6,
   "id": "56fef6c5",
   "metadata": {},
   "outputs": [
    {
     "name": "stdout",
     "output_type": "stream",
     "text": [
      "Set up completed\n"
     ]
    }
   ],
   "source": [
    "from langchain_core.documents import Document\n",
    "from langchain.text_splitter import(\n",
    "    RecursiveCharacterTextSplitter,\n",
    "    CharacterTextSplitter,\n",
    "    TokenTextSplitter\n",
    ")\n",
    "print(\"Set up completed\")\n"
   ]
  },
  {
   "cell_type": "markdown",
   "id": "f1095555",
   "metadata": {},
   "source": [
    "#### Understanding Document  Structure in Langchain"
   ]
  },
  {
   "cell_type": "code",
   "execution_count": 7,
   "id": "6fb786b5",
   "metadata": {},
   "outputs": [
    {
     "name": "stdout",
     "output_type": "stream",
     "text": [
      "Document Structure\n",
      "content :This is the main text content that will be embedded and searched\n",
      "metadata :{'source': 'example.txt', 'page': 1, 'authon': 'Aditya', 'custom_field': 'any value'}\n"
     ]
    }
   ],
   "source": [
    "## create a simple document\n",
    "doc = Document(\n",
    "    page_content=\"This is the main text content that will be embedded and searched\",\n",
    "    metadata={\n",
    "        \"source\":\"example.txt\",\n",
    "        \"page\":1,\n",
    "        \"authon\":\"Aditya\",\n",
    "        \"custom_field\":\"any value\"\n",
    "    }\n",
    ")\n",
    "print(\"Document Structure\")\n",
    "\n",
    "print(f\"content :{doc.page_content}\")\n",
    "print(f\"metadata :{doc.metadata}\")"
   ]
  },
  {
   "cell_type": "markdown",
   "id": "457a9018",
   "metadata": {},
   "source": [
    "###  Text Files (.TextDisplayObject)"
   ]
  },
  {
   "cell_type": "code",
   "execution_count": 8,
   "id": "c56d05de",
   "metadata": {},
   "outputs": [],
   "source": [
    "import os\n",
    "os.makedirs(\"data/text_file\",exist_ok=True)"
   ]
  },
  {
   "cell_type": "code",
   "execution_count": 11,
   "id": "9ea5da08",
   "metadata": {},
   "outputs": [
    {
     "name": "stdout",
     "output_type": "stream",
     "text": [
      "Sample file has been created\n"
     ]
    }
   ],
   "source": [
    "sample_text={\n",
    "    \"data/text_file/python_intro.txt\":\"Python is a popular, high-level programming language known for its simplicity and readability. It supports multiple programming paradigms, including procedural, object-oriented, and functional programming. Python is widely used in web development, data science, automation, artificial intelligence, and more. Key features of Python: Easy to learn and use, Large standard library, Cross-platform compatibility, Strong community support. Example: print('Hello, World!')\",\n",
    "    \"data/text_file/ml_intro.txt\":\"Machine Learning (ML) is a field of artificial intelligence that enables computers to learn from data and make predictions or decisions without being explicitly programmed. ML is used in applications such as image recognition, natural language processing, and recommendation systems. Key concepts include supervised learning, unsupervised learning, and reinforcement learning. Example: Training a model to classify emails as spam or not spam.\"\n",
    "}\n",
    "\n",
    "for filepath,content in sample_text.items():\n",
    "    with open(filepath,'w',encoding=\"utf-8\") as f:\n",
    "        f.write(content)\n",
    "\n",
    "print(\"Sample file has been created\")"
   ]
  },
  {
   "cell_type": "markdown",
   "id": "67f485a8",
   "metadata": {},
   "source": [
    "### TextLoader - Read Single File"
   ]
  },
  {
   "cell_type": "code",
   "execution_count": 13,
   "id": "f435cd5a",
   "metadata": {},
   "outputs": [
    {
     "name": "stdout",
     "output_type": "stream",
     "text": [
      "<class 'list'>\n",
      "[Document(metadata={'source': 'data/text_file/python_intro.txt'}, page_content=\"Python is a popular, high-level programming language known for its simplicity and readability. It supports multiple programming paradigms, including procedural, object-oriented, and functional programming. Python is widely used in web development, data science, automation, artificial intelligence, and more. Key features of Python: Easy to learn and use, Large standard library, Cross-platform compatibility, Strong community support. Example: print('Hello, World!')\")]\n",
      "Loaded 1 document\n",
      "Content preview: Python is a popular, high-level programming language known for its simplicity and readability. It su ....\n",
      "Metadata: {'source': 'data/text_file/python_intro.txt'}\n"
     ]
    }
   ],
   "source": [
    "from langchain.document_loaders import TextLoader\n",
    "from langchain_community.document_loaders import TextLoader  # You can use any one\n",
    "\n",
    "## Loading a single text file\n",
    "loader = TextLoader(\"data/text_file/python_intro.txt\",encoding=\"utf-8\")\n",
    "\n",
    "documents = loader.load()\n",
    "print(type(documents))\n",
    "print(documents)\n",
    "\n",
    "\n",
    "print(f\"Loaded {len(documents)} document\")\n",
    "print(f\"Content preview: {documents[0].page_content[:100]} ....\")\n",
    "print(f\"Metadata: {documents[0].metadata}\")"
   ]
  },
  {
   "cell_type": "markdown",
   "id": "f5a082d7",
   "metadata": {},
   "source": [
    "### DirectoryLoader - Multiple Text Files"
   ]
  },
  {
   "cell_type": "code",
   "execution_count": 21,
   "id": "1c58aaa6",
   "metadata": {},
   "outputs": [
    {
     "name": "stderr",
     "output_type": "stream",
     "text": [
      "100%|██████████| 2/2 [00:00<00:00, 2340.57it/s]"
     ]
    },
    {
     "name": "stdout",
     "output_type": "stream",
     "text": [
      "Loaded 2 documents\n",
      "\n",
      "Document 1:\n",
      "       Source: data/text_file/python_intro.txt\n",
      "       Length: 467 characters\n",
      "\n",
      "Document 2:\n",
      "       Source: data/text_file/ml_intro.txt\n",
      "       Length: 442 characters\n"
     ]
    },
    {
     "name": "stderr",
     "output_type": "stream",
     "text": [
      "\n"
     ]
    }
   ],
   "source": [
    "from langchain.document_loaders import DirectoryLoader\n",
    "\n",
    "## load all the text files from the directory\n",
    "dir_loader = DirectoryLoader(\n",
    "    \"data/text_file\",\n",
    "    glob=\"**/*.txt\", ##Pattern to matc file\n",
    "    loader_cls=TextLoader,\n",
    "    loader_kwargs={'encoding':'utf-8'},\n",
    "    show_progress=True\n",
    "\n",
    ")\n",
    "\n",
    "documents=dir_loader.load()\n",
    "\n",
    "print(f\"Loaded {len(documents)} documents\")\n",
    "\n",
    "for i,doc in enumerate(documents):\n",
    "    print(f\"\\nDocument {i+1}:\")\n",
    "    print(f\"       Source: {doc.metadata['source']}\")\n",
    "    print(f\"       Length: {len(doc.page_content)} characters\")\n"
   ]
  },
  {
   "cell_type": "markdown",
   "id": "7d50e141",
   "metadata": {},
   "source": [
    "### Text Splitting Strategies"
   ]
  },
  {
   "cell_type": "code",
   "execution_count": 39,
   "id": "b20b5bfa",
   "metadata": {},
   "outputs": [
    {
     "name": "stdout",
     "output_type": "stream",
     "text": [
      "[Document(metadata={'source': 'data/text_file/python_intro.txt'}, page_content=\"Python is a popular, high-level programming language known for its simplicity and readability. It supports multiple programming paradigms, including procedural, object-oriented, and functional programming. Python is widely used in web development, data science, automation, artificial intelligence, and more. Key features of Python: Easy to learn and use, Large standard library, Cross-platform compatibility, Strong community support. Example: print('Hello, World!')\"), Document(metadata={'source': 'data/text_file/ml_intro.txt'}, page_content='Machine Learning (ML) is a field of artificial intelligence that enables computers to learn from data and make predictions or decisions without being explicitly programmed. ML is used in applications such as image recognition, natural language processing, and recommendation systems. Key concepts include supervised learning, unsupervised learning, and reinforcement learning. Example: Training a model to classify emails as spam or not spam.')]\n"
     ]
    }
   ],
   "source": [
    "from langchain.text_splitter import(\n",
    "    RecursiveCharacterTextSplitter,\n",
    "    CharacterTextSplitter,\n",
    "    TokenTextSplitter\n",
    ")\n",
    "print(documents)"
   ]
  },
  {
   "cell_type": "code",
   "execution_count": 40,
   "id": "bf2af8af",
   "metadata": {},
   "outputs": [
    {
     "data": {
      "text/plain": [
       "\"Python is a popular, high-level programming language known for its simplicity and readability. It supports multiple programming paradigms, including procedural, object-oriented, and functional programming. Python is widely used in web development, data science, automation, artificial intelligence, and more. Key features of Python: Easy to learn and use, Large standard library, Cross-platform compatibility, Strong community support. Example: print('Hello, World!')\""
      ]
     },
     "execution_count": 40,
     "metadata": {},
     "output_type": "execute_result"
    }
   ],
   "source": [
    "### Method 1 - CharacterTextSplitter\n",
    "text=documents[0].page_content\n",
    "text"
   ]
  },
  {
   "cell_type": "code",
   "execution_count": 46,
   "id": "3e4efc56",
   "metadata": {},
   "outputs": [
    {
     "name": "stdout",
     "output_type": "stream",
     "text": [
      "Character-based Text Splitter\n",
      "Total Chunks: 3\n",
      "First Chunk: Python is a popular, high-level programming language known for its simplicity and readability. It supports multiple programming paradigms, including procedural, object-oriented, and functional...\n"
     ]
    }
   ],
   "source": [
    "### Method 1 - Character-based Text Splitter\n",
    "print(\"Character-based Text Splitter\")\n",
    "char_splitter = CharacterTextSplitter(\n",
    "    separator=\" \", # try to split by new line first, then by space\n",
    "    chunk_size=200, # max size of each chunk\n",
    "    chunk_overlap=20, # overlap between chunks\n",
    "    length_function=len # function to measure length (default is len\n",
    "    )\n",
    "\n",
    "char_chunks = char_splitter.split_text(text)\n",
    "print(f\"Total Chunks: {len(char_chunks)}\")\n",
    "print(f\"First Chunk: {char_chunks[0]}...\")"
   ]
  },
  {
   "cell_type": "code",
   "execution_count": 48,
   "id": "bf52f040",
   "metadata": {},
   "outputs": [
    {
     "name": "stdout",
     "output_type": "stream",
     "text": [
      "Python is a popular, high-level programming language known for its simplicity and readability. It supports multiple programming paradigms, including procedural, object-oriented, and functional\n",
      "-------------------------------------------\n",
      "and functional programming. Python is widely used in web development, data science, automation, artificial intelligence, and more. Key features of Python: Easy to learn and use, Large standard\n",
      "-------------------------------------------\n",
      "use, Large standard library, Cross-platform compatibility, Strong community support. Example: print('Hello, World!')\n"
     ]
    }
   ],
   "source": [
    "print(char_chunks[0])\n",
    "print(\"-------------------------------------------\")\n",
    "print(char_chunks[1])\n",
    "print(\"-------------------------------------------\")\n",
    "print(char_chunks[2])"
   ]
  },
  {
   "cell_type": "code",
   "execution_count": 50,
   "id": "baa82fd1",
   "metadata": {},
   "outputs": [
    {
     "name": "stdout",
     "output_type": "stream",
     "text": [
      "Recursive Character-based Text Splitter\n",
      "Total Chunks: 3\n",
      "First Chunk: Python is a popular, high-level programming language known for its simplicity and readability. It su...\n",
      "Python is a popular, high-level programming language known for its simplicity and readability. It supports multiple programming paradigms, including procedural, object-oriented, and functional\n",
      "-------------------------------------------\n",
      "and functional programming. Python is widely used in web development, data science, automation, artificial intelligence, and more. Key features of Python: Easy to learn and use, Large standard\n",
      "-------------------------------------------\n",
      "use, Large standard library, Cross-platform compatibility, Strong community support. Example: print('Hello, World!')\n"
     ]
    }
   ],
   "source": [
    "# Method 2 - RecursiveCharacterTextSplitter (Recommended)\n",
    "print(\"Recursive Character-based Text Splitter\")\n",
    "recursive_splitter = RecursiveCharacterTextSplitter(\n",
    "    separators=[\"\\n\\n\",\"\\n\", \" \",\"\"],  # Try these separators in order\n",
    "    chunk_size=200,  # max size of each chunk\n",
    "    chunk_overlap=20,  # overlap between chunks\n",
    "    length_function=len  # function to measure length (default is len)\n",
    ")\n",
    "recursive_chunks = recursive_splitter.split_text(text)\n",
    "print(f\"Total Chunks: {len(recursive_chunks)}\")\n",
    "print(f\"First Chunk: {recursive_chunks[0][:100]}...\")\n",
    "\n",
    "\n",
    "print(recursive_chunks[0])\n",
    "print(\"-------------------------------------------\")\n",
    "print(recursive_chunks[1])\n",
    "print(\"-------------------------------------------\")\n",
    "print(recursive_chunks[2])"
   ]
  },
  {
   "cell_type": "code",
   "execution_count": 53,
   "id": "5da705f0",
   "metadata": {},
   "outputs": [
    {
     "name": "stdout",
     "output_type": "stream",
     "text": [
      "Token-based Text Splitter\n",
      "Total Chunks: 2\n",
      "First Chunk: Python is a popular, high-level programming language known for its simplicity and readability. It su...\n",
      "273\n"
     ]
    }
   ],
   "source": [
    "# Method 3 - Token-based Text Splitter \n",
    "print(\"Token-based Text Splitter\")\n",
    "token_splitter = TokenTextSplitter(\n",
    "    chunk_size=50,  # max size of each chunk in tokens\n",
    "    chunk_overlap=10 # overlap between chunks in tokens\n",
    "    )\n",
    "\n",
    "token_chunks = token_splitter.split_text(text)\n",
    "print(f\"Total Chunks: {len(token_chunks)}\")\n",
    "print(f\"First Chunk: {token_chunks[0][:100]}...\")\n",
    "print(len(token_chunks[0]))      \n"
   ]
  }
 ],
 "metadata": {
  "kernelspec": {
   "display_name": "project1",
   "language": "python",
   "name": "python3"
  },
  "language_info": {
   "codemirror_mode": {
    "name": "ipython",
    "version": 3
   },
   "file_extension": ".py",
   "mimetype": "text/x-python",
   "name": "python",
   "nbconvert_exporter": "python",
   "pygments_lexer": "ipython3",
   "version": "3.10.12"
  }
 },
 "nbformat": 4,
 "nbformat_minor": 5
}
