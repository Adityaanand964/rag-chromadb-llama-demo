{
 "cells": [
  {
   "cell_type": "markdown",
   "id": "3a8d62b2",
   "metadata": {},
   "source": [
    "### Load PDF File"
   ]
  },
  {
   "cell_type": "code",
   "execution_count": 12,
   "id": "2f515f06",
   "metadata": {},
   "outputs": [],
   "source": [
    "from langchain.document_loaders import(\n",
    "    PyPDFLoader,\n",
    "    PyMuPDFLoader,\n",
    "    UnstructuredPDFLoader\n",
    ")"
   ]
  },
  {
   "cell_type": "code",
   "execution_count": 13,
   "id": "99dad274",
   "metadata": {},
   "outputs": [
    {
     "name": "stdout",
     "output_type": "stream",
     "text": [
      "-----Pypdf Loader-----\n",
      "[Document(metadata={'producer': 'ReportLab PDF Library - www.reportlab.com', 'creator': 'ReportLab PDF Library - www.reportlab.com', 'creationdate': '2025-09-24T15:52:51+00:00', 'author': 'anonymous', 'keywords': '', 'moddate': '2025-09-24T15:52:51+00:00', 'subject': 'unspecified', 'title': 'untitled', 'trapped': '/False', 'source': 'data/pdf/rag_intro.pdf', 'total_pages': 10, 'page': 0, 'page_label': '1'}, page_content='Retrieval-Augmented Generation (RAG)\\nA Comprehensive Report'), Document(metadata={'producer': 'ReportLab PDF Library - www.reportlab.com', 'creator': 'ReportLab PDF Library - www.reportlab.com', 'creationdate': '2025-09-24T15:52:51+00:00', 'author': 'anonymous', 'keywords': '', 'moddate': '2025-09-24T15:52:51+00:00', 'subject': 'unspecified', 'title': 'untitled', 'trapped': '/False', 'source': 'data/pdf/rag_intro.pdf', 'total_pages': 10, 'page': 1, 'page_label': '2'}, page_content='What is RAG?\\nRAG stands for Retrieval-Augmented Generation.\\nIt is an AI technique that combines retrieval of external knowledge with generative models.\\nThis allows models to access up-to-date information and generate more accurate responses.'), Document(metadata={'producer': 'ReportLab PDF Library - www.reportlab.com', 'creator': 'ReportLab PDF Library - www.reportlab.com', 'creationdate': '2025-09-24T15:52:51+00:00', 'author': 'anonymous', 'keywords': '', 'moddate': '2025-09-24T15:52:51+00:00', 'subject': 'unspecified', 'title': 'untitled', 'trapped': '/False', 'source': 'data/pdf/rag_intro.pdf', 'total_pages': 10, 'page': 2, 'page_label': '3'}, page_content='How RAG Works\\n1. Retrieve relevant documents or data from external sources.\\n2. Use a generative model (like GPT) to process the retrieved data and generate answers.\\n3. Combine both steps to provide context-aware, factual responses.'), Document(metadata={'producer': 'ReportLab PDF Library - www.reportlab.com', 'creator': 'ReportLab PDF Library - www.reportlab.com', 'creationdate': '2025-09-24T15:52:51+00:00', 'author': 'anonymous', 'keywords': '', 'moddate': '2025-09-24T15:52:51+00:00', 'subject': 'unspecified', 'title': 'untitled', 'trapped': '/False', 'source': 'data/pdf/rag_intro.pdf', 'total_pages': 10, 'page': 3, 'page_label': '4'}, page_content='How to Create a RAG System\\n- Choose a retriever (e.g., vector database, search engine)\\n- Select a generative model (e.g., GPT, Llama)\\n- Integrate both using a framework like LangChain or Haystack\\n- Tune retrieval and generation parameters for your use case'), Document(metadata={'producer': 'ReportLab PDF Library - www.reportlab.com', 'creator': 'ReportLab PDF Library - www.reportlab.com', 'creationdate': '2025-09-24T15:52:51+00:00', 'author': 'anonymous', 'keywords': '', 'moddate': '2025-09-24T15:52:51+00:00', 'subject': 'unspecified', 'title': 'untitled', 'trapped': '/False', 'source': 'data/pdf/rag_intro.pdf', 'total_pages': 10, 'page': 4, 'page_label': '5'}, page_content='Benefits of RAG\\n- Access to external, up-to-date information\\n- Improved factual accuracy and reduced hallucination\\n- Context-aware and relevant responses\\n- Flexible integration with various data sources'), Document(metadata={'producer': 'ReportLab PDF Library - www.reportlab.com', 'creator': 'ReportLab PDF Library - www.reportlab.com', 'creationdate': '2025-09-24T15:52:51+00:00', 'author': 'anonymous', 'keywords': '', 'moddate': '2025-09-24T15:52:51+00:00', 'subject': 'unspecified', 'title': 'untitled', 'trapped': '/False', 'source': 'data/pdf/rag_intro.pdf', 'total_pages': 10, 'page': 5, 'page_label': '6'}, page_content='RAG Use Cases\\n- Chatbots and virtual assistants\\n- Enterprise search systems\\n- Automated customer support\\n- Research and knowledge management'), Document(metadata={'producer': 'ReportLab PDF Library - www.reportlab.com', 'creator': 'ReportLab PDF Library - www.reportlab.com', 'creationdate': '2025-09-24T15:52:51+00:00', 'author': 'anonymous', 'keywords': '', 'moddate': '2025-09-24T15:52:51+00:00', 'subject': 'unspecified', 'title': 'untitled', 'trapped': '/False', 'source': 'data/pdf/rag_intro.pdf', 'total_pages': 10, 'page': 6, 'page_label': '7'}, page_content='ROI Matrix for RAG\\n| Benefit           | Cost         | ROI         |\\n|-------------------|--------------|-------------|\\n| Improved accuracy | Medium       | High        |\\n| Faster responses  | Low          | High        |\\n| Data integration  | Medium       | Medium      |\\n| Maintenance       | Medium       | Medium      |'), Document(metadata={'producer': 'ReportLab PDF Library - www.reportlab.com', 'creator': 'ReportLab PDF Library - www.reportlab.com', 'creationdate': '2025-09-24T15:52:51+00:00', 'author': 'anonymous', 'keywords': '', 'moddate': '2025-09-24T15:52:51+00:00', 'subject': 'unspecified', 'title': 'untitled', 'trapped': '/False', 'source': 'data/pdf/rag_intro.pdf', 'total_pages': 10, 'page': 7, 'page_label': '8'}, page_content='Challenges in RAG\\n- Data privacy and security\\n- Quality of retrieved documents\\n- Model integration complexity\\n- Computational cost'), Document(metadata={'producer': 'ReportLab PDF Library - www.reportlab.com', 'creator': 'ReportLab PDF Library - www.reportlab.com', 'creationdate': '2025-09-24T15:52:51+00:00', 'author': 'anonymous', 'keywords': '', 'moddate': '2025-09-24T15:52:51+00:00', 'subject': 'unspecified', 'title': 'untitled', 'trapped': '/False', 'source': 'data/pdf/rag_intro.pdf', 'total_pages': 10, 'page': 8, 'page_label': '9'}, page_content='Future of RAG\\n- Integration with multimodal data (text, images, audio)\\n- More efficient retrieval algorithms\\n- Real-time data access and generation\\n- Widespread adoption in industry'), Document(metadata={'producer': 'ReportLab PDF Library - www.reportlab.com', 'creator': 'ReportLab PDF Library - www.reportlab.com', 'creationdate': '2025-09-24T15:52:51+00:00', 'author': 'anonymous', 'keywords': '', 'moddate': '2025-09-24T15:52:51+00:00', 'subject': 'unspecified', 'title': 'untitled', 'trapped': '/False', 'source': 'data/pdf/rag_intro.pdf', 'total_pages': 10, 'page': 9, 'page_label': '10'}, page_content='Summary\\nRAG is a powerful technique for combining retrieval and generation in AI systems.\\nIt offers significant benefits in accuracy, relevance, and flexibility.\\nWith ongoing research and development, RAG will continue to shape the future of AI.')]\n",
      "Number of pages: 10\n",
      "Page 1 content: Retrieval-Augmented Generation (RAG)\n",
      "A Comprehensive Report...\n",
      "Metadata: {'producer': 'ReportLab PDF Library - www.reportlab.com', 'creator': 'ReportLab PDF Library - www.reportlab.com', 'creationdate': '2025-09-24T15:52:51+00:00', 'author': 'anonymous', 'keywords': '', 'moddate': '2025-09-24T15:52:51+00:00', 'subject': 'unspecified', 'title': 'untitled', 'trapped': '/False', 'source': 'data/pdf/rag_intro.pdf', 'total_pages': 10, 'page': 0, 'page_label': '1'}\n"
     ]
    }
   ],
   "source": [
    "### Pypdf loader\n",
    "\n",
    "print(\"-----Pypdf Loader-----\")\n",
    "\n",
    "try:\n",
    "    loader = PyPDFLoader(\"data/pdf/rag_intro.pdf\")\n",
    "    pypdf_docs = loader.load()\n",
    "    print(pypdf_docs)\n",
    "    print(f\"Number of pages: {len(pypdf_docs)}\")\n",
    "    print(f\"Page 1 content: {pypdf_docs[0].page_content[:100]}...\")\n",
    "    print(f\"Metadata: {pypdf_docs[0].metadata}\")\n",
    "except Exception as e:\n",
    "    print(f\"Error loading PDF with PyPDFLoader: {e}\")   "
   ]
  },
  {
   "cell_type": "code",
   "execution_count": 14,
   "id": "25df96ae",
   "metadata": {},
   "outputs": [
    {
     "name": "stdout",
     "output_type": "stream",
     "text": [
      "[Document(metadata={'producer': 'ReportLab PDF Library - www.reportlab.com', 'creator': 'ReportLab PDF Library - www.reportlab.com', 'creationdate': '2025-09-24T15:52:51+00:00', 'source': 'data/pdf/rag_intro.pdf', 'file_path': 'data/pdf/rag_intro.pdf', 'total_pages': 10, 'format': 'PDF 1.3', 'title': 'untitled', 'author': 'anonymous', 'subject': 'unspecified', 'keywords': '', 'moddate': '2025-09-24T15:52:51+00:00', 'trapped': '', 'modDate': \"D:20250924155251+00'00'\", 'creationDate': \"D:20250924155251+00'00'\", 'page': 0}, page_content='Retrieval-Augmented Generation (RAG)\\nA Comprehensive Report'), Document(metadata={'producer': 'ReportLab PDF Library - www.reportlab.com', 'creator': 'ReportLab PDF Library - www.reportlab.com', 'creationdate': '2025-09-24T15:52:51+00:00', 'source': 'data/pdf/rag_intro.pdf', 'file_path': 'data/pdf/rag_intro.pdf', 'total_pages': 10, 'format': 'PDF 1.3', 'title': 'untitled', 'author': 'anonymous', 'subject': 'unspecified', 'keywords': '', 'moddate': '2025-09-24T15:52:51+00:00', 'trapped': '', 'modDate': \"D:20250924155251+00'00'\", 'creationDate': \"D:20250924155251+00'00'\", 'page': 1}, page_content='What is RAG?\\nRAG stands for Retrieval-Augmented Generation.\\nIt is an AI technique that combines retrieval of external knowledge with generative models.\\nThis allows models to access up-to-date information and generate more accurate responses.'), Document(metadata={'producer': 'ReportLab PDF Library - www.reportlab.com', 'creator': 'ReportLab PDF Library - www.reportlab.com', 'creationdate': '2025-09-24T15:52:51+00:00', 'source': 'data/pdf/rag_intro.pdf', 'file_path': 'data/pdf/rag_intro.pdf', 'total_pages': 10, 'format': 'PDF 1.3', 'title': 'untitled', 'author': 'anonymous', 'subject': 'unspecified', 'keywords': '', 'moddate': '2025-09-24T15:52:51+00:00', 'trapped': '', 'modDate': \"D:20250924155251+00'00'\", 'creationDate': \"D:20250924155251+00'00'\", 'page': 2}, page_content='How RAG Works\\n1. Retrieve relevant documents or data from external sources.\\n2. Use a generative model (like GPT) to process the retrieved data and generate answers.\\n3. Combine both steps to provide context-aware, factual responses.'), Document(metadata={'producer': 'ReportLab PDF Library - www.reportlab.com', 'creator': 'ReportLab PDF Library - www.reportlab.com', 'creationdate': '2025-09-24T15:52:51+00:00', 'source': 'data/pdf/rag_intro.pdf', 'file_path': 'data/pdf/rag_intro.pdf', 'total_pages': 10, 'format': 'PDF 1.3', 'title': 'untitled', 'author': 'anonymous', 'subject': 'unspecified', 'keywords': '', 'moddate': '2025-09-24T15:52:51+00:00', 'trapped': '', 'modDate': \"D:20250924155251+00'00'\", 'creationDate': \"D:20250924155251+00'00'\", 'page': 3}, page_content='How to Create a RAG System\\n- Choose a retriever (e.g., vector database, search engine)\\n- Select a generative model (e.g., GPT, Llama)\\n- Integrate both using a framework like LangChain or Haystack\\n- Tune retrieval and generation parameters for your use case'), Document(metadata={'producer': 'ReportLab PDF Library - www.reportlab.com', 'creator': 'ReportLab PDF Library - www.reportlab.com', 'creationdate': '2025-09-24T15:52:51+00:00', 'source': 'data/pdf/rag_intro.pdf', 'file_path': 'data/pdf/rag_intro.pdf', 'total_pages': 10, 'format': 'PDF 1.3', 'title': 'untitled', 'author': 'anonymous', 'subject': 'unspecified', 'keywords': '', 'moddate': '2025-09-24T15:52:51+00:00', 'trapped': '', 'modDate': \"D:20250924155251+00'00'\", 'creationDate': \"D:20250924155251+00'00'\", 'page': 4}, page_content='Benefits of RAG\\n- Access to external, up-to-date information\\n- Improved factual accuracy and reduced hallucination\\n- Context-aware and relevant responses\\n- Flexible integration with various data sources'), Document(metadata={'producer': 'ReportLab PDF Library - www.reportlab.com', 'creator': 'ReportLab PDF Library - www.reportlab.com', 'creationdate': '2025-09-24T15:52:51+00:00', 'source': 'data/pdf/rag_intro.pdf', 'file_path': 'data/pdf/rag_intro.pdf', 'total_pages': 10, 'format': 'PDF 1.3', 'title': 'untitled', 'author': 'anonymous', 'subject': 'unspecified', 'keywords': '', 'moddate': '2025-09-24T15:52:51+00:00', 'trapped': '', 'modDate': \"D:20250924155251+00'00'\", 'creationDate': \"D:20250924155251+00'00'\", 'page': 5}, page_content='RAG Use Cases\\n- Chatbots and virtual assistants\\n- Enterprise search systems\\n- Automated customer support\\n- Research and knowledge management'), Document(metadata={'producer': 'ReportLab PDF Library - www.reportlab.com', 'creator': 'ReportLab PDF Library - www.reportlab.com', 'creationdate': '2025-09-24T15:52:51+00:00', 'source': 'data/pdf/rag_intro.pdf', 'file_path': 'data/pdf/rag_intro.pdf', 'total_pages': 10, 'format': 'PDF 1.3', 'title': 'untitled', 'author': 'anonymous', 'subject': 'unspecified', 'keywords': '', 'moddate': '2025-09-24T15:52:51+00:00', 'trapped': '', 'modDate': \"D:20250924155251+00'00'\", 'creationDate': \"D:20250924155251+00'00'\", 'page': 6}, page_content='ROI Matrix for RAG\\n| Benefit           | Cost         | ROI         |\\n|-------------------|--------------|-------------|\\n| Improved accuracy | Medium       | High        |\\n| Faster responses  | Low          | High        |\\n| Data integration  | Medium       | Medium      |\\n| Maintenance       | Medium       | Medium      |'), Document(metadata={'producer': 'ReportLab PDF Library - www.reportlab.com', 'creator': 'ReportLab PDF Library - www.reportlab.com', 'creationdate': '2025-09-24T15:52:51+00:00', 'source': 'data/pdf/rag_intro.pdf', 'file_path': 'data/pdf/rag_intro.pdf', 'total_pages': 10, 'format': 'PDF 1.3', 'title': 'untitled', 'author': 'anonymous', 'subject': 'unspecified', 'keywords': '', 'moddate': '2025-09-24T15:52:51+00:00', 'trapped': '', 'modDate': \"D:20250924155251+00'00'\", 'creationDate': \"D:20250924155251+00'00'\", 'page': 7}, page_content='Challenges in RAG\\n- Data privacy and security\\n- Quality of retrieved documents\\n- Model integration complexity\\n- Computational cost'), Document(metadata={'producer': 'ReportLab PDF Library - www.reportlab.com', 'creator': 'ReportLab PDF Library - www.reportlab.com', 'creationdate': '2025-09-24T15:52:51+00:00', 'source': 'data/pdf/rag_intro.pdf', 'file_path': 'data/pdf/rag_intro.pdf', 'total_pages': 10, 'format': 'PDF 1.3', 'title': 'untitled', 'author': 'anonymous', 'subject': 'unspecified', 'keywords': '', 'moddate': '2025-09-24T15:52:51+00:00', 'trapped': '', 'modDate': \"D:20250924155251+00'00'\", 'creationDate': \"D:20250924155251+00'00'\", 'page': 8}, page_content='Future of RAG\\n- Integration with multimodal data (text, images, audio)\\n- More efficient retrieval algorithms\\n- Real-time data access and generation\\n- Widespread adoption in industry'), Document(metadata={'producer': 'ReportLab PDF Library - www.reportlab.com', 'creator': 'ReportLab PDF Library - www.reportlab.com', 'creationdate': '2025-09-24T15:52:51+00:00', 'source': 'data/pdf/rag_intro.pdf', 'file_path': 'data/pdf/rag_intro.pdf', 'total_pages': 10, 'format': 'PDF 1.3', 'title': 'untitled', 'author': 'anonymous', 'subject': 'unspecified', 'keywords': '', 'moddate': '2025-09-24T15:52:51+00:00', 'trapped': '', 'modDate': \"D:20250924155251+00'00'\", 'creationDate': \"D:20250924155251+00'00'\", 'page': 9}, page_content='Summary\\nRAG is a powerful technique for combining retrieval and generation in AI systems.\\nIt offers significant benefits in accuracy, relevance, and flexibility.\\nWith ongoing research and development, RAG will continue to shape the future of AI.')]\n",
      "Number of Pages: 10\n",
      "Page 1 content: Retrieval-Augmented Generation (RAG)\n",
      "A Comprehensive Report...\n",
      "Metadata: {'producer': 'ReportLab PDF Library - www.reportlab.com', 'creator': 'ReportLab PDF Library - www.reportlab.com', 'creationdate': '2025-09-24T15:52:51+00:00', 'source': 'data/pdf/rag_intro.pdf', 'file_path': 'data/pdf/rag_intro.pdf', 'total_pages': 10, 'format': 'PDF 1.3', 'title': 'untitled', 'author': 'anonymous', 'subject': 'unspecified', 'keywords': '', 'moddate': '2025-09-24T15:52:51+00:00', 'trapped': '', 'modDate': \"D:20250924155251+00'00'\", 'creationDate': \"D:20250924155251+00'00'\", 'page': 0}\n"
     ]
    }
   ],
   "source": [
    "### PyMuPDF loader\n",
    "\n",
    "try:\n",
    "    loader = PyMuPDFLoader(\"data/pdf/rag_intro.pdf\")\n",
    "    pymupdf_docs = loader.load()\n",
    "    print(pymupdf_docs)\n",
    "    print(f\"Number of Pages: {len(pymupdf_docs)}\")\n",
    "    print(f\"Page 1 content: {pymupdf_docs[0].page_content[:100]}...\")\n",
    "    print(f\"Metadata: {pymupdf_docs[0].metadata}\")\n",
    "except Exception as e:\n",
    "    print(f\"Error loading PDF with PyMuPDFLoader: {e}\")"
   ]
  },
  {
   "cell_type": "code",
   "execution_count": null,
   "id": "9285a58a",
   "metadata": {},
   "outputs": [
    {
     "data": {
      "text/plain": [
       "4"
      ]
     },
     "execution_count": 10,
     "metadata": {},
     "output_type": "execute_result"
    }
   ],
   "source": []
  }
 ],
 "metadata": {
  "kernelspec": {
   "display_name": "project1",
   "language": "python",
   "name": "python3"
  },
  "language_info": {
   "codemirror_mode": {
    "name": "ipython",
    "version": 3
   },
   "file_extension": ".py",
   "mimetype": "text/x-python",
   "name": "python",
   "nbconvert_exporter": "python",
   "pygments_lexer": "ipython3",
   "version": "3.10.12"
  }
 },
 "nbformat": 4,
 "nbformat_minor": 5
}
